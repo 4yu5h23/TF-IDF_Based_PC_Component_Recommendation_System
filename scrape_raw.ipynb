{
 "cells": [
  {
   "cell_type": "code",
   "execution_count": 2,
   "metadata": {},
   "outputs": [],
   "source": [
    "from seleniumbase import SB\n",
    "from bs4 import BeautifulSoup\n",
    "import csv\n",
    "import os\n",
    "import pprint\n",
    "import pandas as pd"
   ]
  },
  {
   "cell_type": "code",
   "execution_count": 14,
   "metadata": {},
   "outputs": [],
   "source": [
    "\n",
    "def verify_success(sb):\n",
    "    sb.assert_element('img[alt=\"PCPartPicker\"]', timeout=8)\n",
    "    sb.sleep(4)\n",
    "\n",
    "\n",
    "with SB(uc_cdp=True, guest_mode=True) as sb:\n",
    "        sb.open(\"www.pcpartpicker.com/b/VMHzK8\")\n",
    "        try:\n",
    "            verify_success(sb)\n",
    "        except Exception:\n",
    "            if sb.is_element_visible('input[value*=\"Verify\"]'):\n",
    "                sb.click('input[value*=\"Verify\"]')\n",
    "            elif sb.is_element_visible('iframe[title*=\"challenge\"]'):\n",
    "                sb.switch_to_frame('iframe[title*=\"challenge\"]')\n",
    "                sb.click(\"span.mark\")\n",
    "            else:\n",
    "                raise Exception(\"Detected!\")\n",
    "        \n",
    "        html = sb.get_page_source()\n",
    "        soup = BeautifulSoup(html, 'lxml')"
   ]
  },
  {
   "cell_type": "code",
   "execution_count": 28,
   "metadata": {},
   "outputs": [
    {
     "name": "stdout",
     "output_type": "stream",
     "text": [
      "['\\nAMD Ryzen 9 7900X 4.7 GHz 12-Core\\n$315.00\\n', '\\nG.Skill Trident Z5 RGB 32 GB (2 x 16 GB) DDR5-6600 CL34\\n$130.00\\n', '\\nAsus TUF GAMING OC GeForce RTX 4070 Ti 12 GB\\n$819.00\\n', '\\nGigabyte UD1000GM 1000 W 80+ Gold Certified Fully Modular ATX\\n$140.00\\n']\n"
     ]
    }
   ],
   "source": [
    "partslist = soup.find('tbody')\n",
    "build1 = []\n",
    "parts = partslist.find_all('tr')\n",
    "pl=len(parts)\n",
    "# for i in range(0,pl,2):\n",
    "#         if parts[i].find('td', class_='td__component').find('h4').text == \"CPU\":\n",
    "#             build1.append(parts[i+1].find('td', class_='td__name').text)\n",
    "#             print(\"CPU: \"+parts[i+1].find('td', class_='td__name').text)\n",
    "#         elif parts[i].find('td', class_='td__component').find('h4').text == \"Memory\":\n",
    "#             build1.append(parts[i+1].find('td', class_='td__name').text)\n",
    "#             print(\"Memory: \"+parts[i+1].find('td', class_='td__name').text)\n",
    "#         elif parts[i].find('td', class_='td__component').find('h4').text == \"Video Card\":\n",
    "#             build1.append(parts[i+1].find('td', class_='td__name').text)\n",
    "#             print(\"Video Card: \"+parts[i+1].find('td', class_='td__name').text)\n",
    "#         elif parts[i].find('td', class_='td__component').find('h4').text == \"Power Supply\":\n",
    "#             build1.append(parts[i+1].find('td', class_='td__name').text)\n",
    "#             print(\"Power Supply: \"+parts[i+1].find('td', class_='td__name').text)\n",
    "# print(build1)\n",
    "for i in range(0,pl,2):\n",
    "        if parts[i].find('td', class_='td__component').find('h4').text == \"CPU\":\n",
    "            cpu_og=parts[i+1].find('td', class_='td__name').text\n",
    "            cpu=cpu_og\n",
    "            # print(cpu_og)\n",
    "        elif parts[i].find('td', class_='td__component').find('h4').text == \"Memory\":\n",
    "            ram_og=parts[i+1].find('td', class_='td__name').text\n",
    "            # print(ram_og)\n",
    "\n",
    "        elif parts[i].find('td', class_='td__component').find('h4').text == \"Video Card\":\n",
    "            gpu_og=parts[i+1].find('td', class_='td__name').text\n",
    "            # print(gpu_og)\n",
    "        elif parts[i].find('td', class_='td__component').find('h4').text == \"Power Supply\":\n",
    "            psu_og=parts[i+1].find('td', class_='td__name').text\n",
    "            # print(psu_og)\n",
    "        thelistman=[cpu_og,ram_og,gpu_og,psu_og]\n",
    "print(thelistman)\n",
    "          \n",
    "        \n",
    "        \n"
   ]
  },
  {
   "cell_type": "code",
   "execution_count": 41,
   "metadata": {},
   "outputs": [
    {
     "name": "stdout",
     "output_type": "stream",
     "text": [
      "GeForce RTX 4070 Ti\n"
     ]
    }
   ],
   "source": [
    "accepted_gpus = [\"RTX 4060\", \"RTX 4060 Ti\",\"RTX 4070\",\"RTX 4070 Ti\", \"RTX 4080\" ,\"RTX 4080\"]\n",
    "def removeprice(text):    \n",
    "    text=text.replace(\"\\n\",\"\").replace(\"$\",\" \")\n",
    "    text=text.split(\" \")\n",
    "    text.pop(-1)\n",
    "    text = \" \".join(text)\n",
    "    return text\n",
    "# gpu=removeprice(gpu_og)\n",
    "# gpu=gpu.split(\" \")\n",
    "# gpu = gpu[-6:-2]\n",
    "# gpu = \" \".join(gpu)\n",
    "# print(gpu)"
   ]
  },
  {
   "cell_type": "markdown",
   "metadata": {},
   "source": [
    "![alt text](image.png)"
   ]
  },
  {
   "cell_type": "code",
   "execution_count": 8,
   "metadata": {},
   "outputs": [
    {
     "data": {
      "text/plain": [
       "'PSU'"
      ]
     },
     "execution_count": 8,
     "metadata": {},
     "output_type": "execute_result"
    }
   ],
   "source": [
    "\n",
    "with open('buildsfinal.csv', 'r') as file:\n",
    "    csvreader = csv.reader(file)\n",
    "    cpus = []\n",
    "    motherboards = []\n",
    "    rams = []\n",
    "    gpus = []\n",
    "    psus = []\n",
    "    for row in csvreader:\n",
    "        cpus.append(row[1])\n",
    "        motherboards.append(row[2])\n",
    "        rams.append(row[3])\n",
    "        gpus.append(row[4])\n",
    "        psus.append(row[5])\n",
    "cpus.pop(0)    \n",
    "motherboards.pop(0)\n",
    "rams.pop(0)\n",
    "gpus.pop(0)\n",
    "psus.pop(0)"
   ]
  },
  {
   "cell_type": "code",
   "execution_count": 12,
   "metadata": {},
   "outputs": [
    {
     "name": "stdout",
     "output_type": "stream",
     "text": [
      "{'Intel Core i9-12900KF', 'Intel Core i5-13600KF', 'Intel Core i7-13700F', 'AMD Ryzen 5 5600', 'AMD Ryzen 7 7700X', 'AMD Ryzen 9 7950X', 'AMD Ryzen 5 5600X', 'Intel Core i5-13400F', 'Intel Core i7-13700KF', 'AMD Ryzen 9 7900X'}\n",
      "10\n",
      "{'192 GB (4 x 48 GB) DDR5-5200', '8 GB (1 x 8 GB) DDR4-3200', '64 GB (2 x 32 GB) DDR5-6400', '64 GB (2 x 32 GB) DDR5-5600', '32 GB (2 x 16 GB) DDR5-6000', '32 GB (2 x 16 GB) DDR5-4800', '96 GB (2 x 48 GB) DDR5-6000', '32 GB (2 x 16 GB) DDR5-5200', '64 GB (2 x 32 GB) DDR4-3200', '32 GB (2 x 16 GB) DDR5-5600', '32 GB (2 x 16 GB) DDR5-6200', '16 GB (2 x 8 GB) DDR4-4000', '32 GB (2 x 16 GB) DDR4-4000', '32 GB (2 x 16 GB) DDR4-3000', '32 GB (2 x 16 GB) DDR5-7600', '32 GB (2 x 16 GB) DDR5-7200', '32 GB (2 x 16 GB) DDR4-3200', '64 GB (2 x 32 GB) DDR5-6000', '16 GB (2 x 8 GB) DDR5-6000', '96 GB (2 x 48 GB) DDR5-5200', '32 GB (4 x 8 GB) DDR4-3600', '16 GB (2 x 8 GB) DDR4-3000', '64 GB (2 x 32 GB) DDR5-5200', '64 GB (4 x 16 GB) DDR5-5600', '16 GB (2 x 8 GB) DDR5-5200', '16 GB (1 x 16 GB) DDR4-3200', '64 GB (2 x 32 GB) DDR5-6600', '128 GB (4 x 32 GB) DDR5-5600', '64 GB (2 x 32 GB) DDR4-3600', '32 GB (2 x 16 GB) DDR5-6600', '32 GB (4 x 8 GB) DDR4-3200', '32 GB (2 x 16 GB) DDR5-6800', '16 GB (2 x 8 GB) DDR4-3600', '32 GB (2 x 16 GB) DDR4-3600', '32 GB (1 x 32 GB) DDR5-6000', '32 GB (2 x 16 GB) DDR5-6400', '16 GB (2 x 8 GB) DDR4-3200'}\n",
      "37\n",
      "{'RTX 4090', 'RTX 4060', 'RTX 4070', 'RTX 4080', 'RTX 4060 Ti', 'RTX 4070 Ti'}\n",
      "6\n",
      "{'750 W', '1650 W', '450 W', '550 W', '1200 W', '650 W', '1600 W', '700 W', '1000 W', '500 W', '1500 W', '1350 W', '800 W', '1050 W', '850 W', '600 W', '1300 W'}\n",
      "17\n"
     ]
    }
   ],
   "source": [
    "print(set(cpus))\n",
    "print(len(set(cpus)))\n",
    "print(set(rams))\n",
    "print(len(set(rams)))\n",
    "print(set(gpus))\n",
    "print(len(set(gpus)))\n",
    "print(set(psus))\n",
    "print(len(set(psus)))"
   ]
  }
 ],
 "metadata": {
  "kernelspec": {
   "display_name": "venv",
   "language": "python",
   "name": "python3"
  },
  "language_info": {
   "codemirror_mode": {
    "name": "ipython",
    "version": 3
   },
   "file_extension": ".py",
   "mimetype": "text/x-python",
   "name": "python",
   "nbconvert_exporter": "python",
   "pygments_lexer": "ipython3",
   "version": "3.11.0"
  }
 },
 "nbformat": 4,
 "nbformat_minor": 2
}
