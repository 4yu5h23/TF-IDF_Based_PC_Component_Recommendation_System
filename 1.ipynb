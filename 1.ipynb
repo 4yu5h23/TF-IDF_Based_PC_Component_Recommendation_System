{
 "cells": [
  {
   "cell_type": "code",
   "execution_count": 1,
   "metadata": {},
   "outputs": [],
   "source": [
    "from seleniumbase import SB\n",
    "from bs4 import BeautifulSoup"
   ]
  },
  {
   "cell_type": "code",
   "execution_count": 4,
   "metadata": {},
   "outputs": [],
   "source": [
    "\n",
    "def verify_success(sb):\n",
    "    sb.assert_element('img[alt=\"PCPartPicker\"]', timeout=8)\n",
    "    sb.sleep(4)\n",
    "\n",
    "\n",
    "with SB(uc_cdp=True, guest_mode=True) as sb:\n",
    "        sb.open(\"www.pcpartpicker.com/b/VMHzK8\")\n",
    "        try:\n",
    "            verify_success(sb)\n",
    "        except Exception:\n",
    "            if sb.is_element_visible('input[value*=\"Verify\"]'):\n",
    "                sb.click('input[value*=\"Verify\"]')\n",
    "            elif sb.is_element_visible('iframe[title*=\"challenge\"]'):\n",
    "                sb.switch_to_frame('iframe[title*=\"challenge\"]')\n",
    "                sb.click(\"span.mark\")\n",
    "            else:\n",
    "                raise Exception(\"Detected!\")\n",
    "        \n",
    "        html = sb.get_page_source()\n",
    "        soup = BeautifulSoup(html, 'lxml')"
   ]
  },
  {
   "cell_type": "code",
   "execution_count": 18,
   "metadata": {},
   "outputs": [
    {
     "name": "stdout",
     "output_type": "stream",
     "text": [
      "CPU: \n",
      "AMD Ryzen 9 7900X 4.7 GHz 12-Core\n",
      "$315.00\n",
      "\n",
      "Memory: \n",
      "G.Skill Trident Z5 RGB 32 GB (2 x 16 GB) DDR5-6600 CL34\n",
      "$130.00\n",
      "\n",
      "Video Card: \n",
      "Asus TUF GAMING OC GeForce RTX 4070 Ti 12 GB\n",
      "$819.00\n",
      "\n",
      "Power Supply: \n",
      "Gigabyte UD1000GM 1000 W 80+ Gold Certified Fully Modular ATX\n",
      "$140.00\n",
      "\n"
     ]
    }
   ],
   "source": [
    "partslist = soup.find('tbody')\n",
    "\n",
    "parts = partslist.find_all('tr')\n",
    "thelist=[\"CPU\",\"Memory\",\"Video Card\",\"Power Supply\"]\n",
    "# print(parts[0].find('td', class_='td__component').find('h4').text)\n",
    "pl=len(parts)\n",
    "for i in range(0,pl,2):\n",
    "    if parts[i].find('td', class_='td__component').find('h4').text in thelist:\n",
    "        if parts[i].find('td', class_='td__component').find('h4').text == \"CPU\":\n",
    "            print(\"CPU: \"+parts[i+1].find('td', class_='td__name').text)\n",
    "        elif parts[i].find('td', class_='td__component').find('h4').text == \"Memory\":\n",
    "            print(\"Memory: \"+parts[i+1].find('td', class_='td__name').text)\n",
    "        elif parts[i].find('td', class_='td__component').find('h4').text == \"Video Card\":\n",
    "            print(\"Video Card: \"+parts[i+1].find('td', class_='td__name').text)\n",
    "        elif parts[i].find('td', class_='td__component').find('h4').text == \"Power Supply\":\n",
    "            print(\"Power Supply: \"+parts[i+1].find('td', class_='td__name').text)\n",
    "        \n",
    "        \n"
   ]
  },
  {
   "cell_type": "code",
   "execution_count": null,
   "metadata": {},
   "outputs": [],
   "source": []
  }
 ],
 "metadata": {
  "kernelspec": {
   "display_name": "venv",
   "language": "python",
   "name": "python3"
  },
  "language_info": {
   "codemirror_mode": {
    "name": "ipython",
    "version": 3
   },
   "file_extension": ".py",
   "mimetype": "text/x-python",
   "name": "python",
   "nbconvert_exporter": "python",
   "pygments_lexer": "ipython3",
   "version": "3.11.0"
  }
 },
 "nbformat": 4,
 "nbformat_minor": 2
}
