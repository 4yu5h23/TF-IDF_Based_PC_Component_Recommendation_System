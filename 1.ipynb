{
 "cells": [
  {
   "cell_type": "code",
   "execution_count": 1,
   "metadata": {},
   "outputs": [],
   "source": [
    "from seleniumbase import SB\n",
    "from bs4 import BeautifulSoup"
   ]
  },
  {
   "cell_type": "code",
   "execution_count": 4,
   "metadata": {},
   "outputs": [],
   "source": [
    "\n",
    "def verify_success(sb):\n",
    "    sb.assert_element('img[alt=\"PCPartPicker\"]', timeout=8)\n",
    "    sb.sleep(4)\n",
    "\n",
    "\n",
    "with SB(uc_cdp=True, guest_mode=True) as sb:\n",
    "        sb.open(\"www.pcpartpicker.com/b/VMHzK8\")\n",
    "        try:\n",
    "            verify_success(sb)\n",
    "        except Exception:\n",
    "            if sb.is_element_visible('input[value*=\"Verify\"]'):\n",
    "                sb.click('input[value*=\"Verify\"]')\n",
    "            elif sb.is_element_visible('iframe[title*=\"challenge\"]'):\n",
    "                sb.switch_to_frame('iframe[title*=\"challenge\"]')\n",
    "                sb.click(\"span.mark\")\n",
    "            else:\n",
    "                raise Exception(\"Detected!\")\n",
    "        \n",
    "        html = sb.get_page_source()\n",
    "        soup = BeautifulSoup(html, 'lxml')"
   ]
  },
  {
   "cell_type": "code",
   "execution_count": 11,
   "metadata": {},
   "outputs": [],
   "source": [
    "partslist = soup.find('tbody')\n",
    "\n",
    "parts = partslist.find_all('tr')\n",
    "\n",
    "for part in parts:\n",
    "    if part.text == 'CPU':\n",
    "        print(part.text)\n"
   ]
  },
  {
   "cell_type": "code",
   "execution_count": null,
   "metadata": {},
   "outputs": [],
   "source": []
  }
 ],
 "metadata": {
  "kernelspec": {
   "display_name": "venv",
   "language": "python",
   "name": "python3"
  },
  "language_info": {
   "codemirror_mode": {
    "name": "ipython",
    "version": 3
   },
   "file_extension": ".py",
   "mimetype": "text/x-python",
   "name": "python",
   "nbconvert_exporter": "python",
   "pygments_lexer": "ipython3",
   "version": "3.11.0"
  }
 },
 "nbformat": 4,
 "nbformat_minor": 2
}
