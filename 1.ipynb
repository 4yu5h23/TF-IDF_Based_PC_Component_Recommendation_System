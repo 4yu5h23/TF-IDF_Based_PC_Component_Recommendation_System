{
 "cells": [
  {
   "cell_type": "code",
   "execution_count": 13,
   "metadata": {},
   "outputs": [],
   "source": [
    "from seleniumbase import SB\n",
    "from bs4 import BeautifulSoup\n",
    "import csv\n",
    "import os\n",
    "import pprint"
   ]
  },
  {
   "cell_type": "code",
   "execution_count": 14,
   "metadata": {},
   "outputs": [],
   "source": [
    "\n",
    "def verify_success(sb):\n",
    "    sb.assert_element('img[alt=\"PCPartPicker\"]', timeout=8)\n",
    "    sb.sleep(4)\n",
    "\n",
    "\n",
    "with SB(uc_cdp=True, guest_mode=True) as sb:\n",
    "        sb.open(\"www.pcpartpicker.com/b/VMHzK8\")\n",
    "        try:\n",
    "            verify_success(sb)\n",
    "        except Exception:\n",
    "            if sb.is_element_visible('input[value*=\"Verify\"]'):\n",
    "                sb.click('input[value*=\"Verify\"]')\n",
    "            elif sb.is_element_visible('iframe[title*=\"challenge\"]'):\n",
    "                sb.switch_to_frame('iframe[title*=\"challenge\"]')\n",
    "                sb.click(\"span.mark\")\n",
    "            else:\n",
    "                raise Exception(\"Detected!\")\n",
    "        \n",
    "        html = sb.get_page_source()\n",
    "        soup = BeautifulSoup(html, 'lxml')"
   ]
  },
  {
   "cell_type": "code",
   "execution_count": 28,
   "metadata": {},
   "outputs": [
    {
     "name": "stdout",
     "output_type": "stream",
     "text": [
      "['\\nAMD Ryzen 9 7900X 4.7 GHz 12-Core\\n$315.00\\n', '\\nG.Skill Trident Z5 RGB 32 GB (2 x 16 GB) DDR5-6600 CL34\\n$130.00\\n', '\\nAsus TUF GAMING OC GeForce RTX 4070 Ti 12 GB\\n$819.00\\n', '\\nGigabyte UD1000GM 1000 W 80+ Gold Certified Fully Modular ATX\\n$140.00\\n']\n"
     ]
    }
   ],
   "source": [
    "partslist = soup.find('tbody')\n",
    "build1 = []\n",
    "parts = partslist.find_all('tr')\n",
    "pl=len(parts)\n",
    "# for i in range(0,pl,2):\n",
    "#         if parts[i].find('td', class_='td__component').find('h4').text == \"CPU\":\n",
    "#             build1.append(parts[i+1].find('td', class_='td__name').text)\n",
    "#             print(\"CPU: \"+parts[i+1].find('td', class_='td__name').text)\n",
    "#         elif parts[i].find('td', class_='td__component').find('h4').text == \"Memory\":\n",
    "#             build1.append(parts[i+1].find('td', class_='td__name').text)\n",
    "#             print(\"Memory: \"+parts[i+1].find('td', class_='td__name').text)\n",
    "#         elif parts[i].find('td', class_='td__component').find('h4').text == \"Video Card\":\n",
    "#             build1.append(parts[i+1].find('td', class_='td__name').text)\n",
    "#             print(\"Video Card: \"+parts[i+1].find('td', class_='td__name').text)\n",
    "#         elif parts[i].find('td', class_='td__component').find('h4').text == \"Power Supply\":\n",
    "#             build1.append(parts[i+1].find('td', class_='td__name').text)\n",
    "#             print(\"Power Supply: \"+parts[i+1].find('td', class_='td__name').text)\n",
    "# print(build1)\n",
    "for i in range(0,pl,2):\n",
    "        if parts[i].find('td', class_='td__component').find('h4').text == \"CPU\":\n",
    "            cpu_og=parts[i+1].find('td', class_='td__name').text\n",
    "            cpu=cpu_og\n",
    "            # print(cpu_og)\n",
    "        elif parts[i].find('td', class_='td__component').find('h4').text == \"Memory\":\n",
    "            ram_og=parts[i+1].find('td', class_='td__name').text\n",
    "            # print(ram_og)\n",
    "\n",
    "        elif parts[i].find('td', class_='td__component').find('h4').text == \"Video Card\":\n",
    "            gpu_og=parts[i+1].find('td', class_='td__name').text\n",
    "            # print(gpu_og)\n",
    "        elif parts[i].find('td', class_='td__component').find('h4').text == \"Power Supply\":\n",
    "            psu_og=parts[i+1].find('td', class_='td__name').text\n",
    "            # print(psu_og)\n",
    "        thelistman=[cpu_og,ram_og,gpu_og,psu_og]\n",
    "print(thelistman)\n",
    "          \n",
    "        \n",
    "        \n"
   ]
  },
  {
   "cell_type": "code",
   "execution_count": 41,
   "metadata": {},
   "outputs": [
    {
     "name": "stdout",
     "output_type": "stream",
     "text": [
      "GeForce RTX 4070 Ti\n"
     ]
    }
   ],
   "source": [
    "accepted_gpus = [\"RTX 4060\", \"RTX 4060 Ti\",\"RTX 4070\",\"RTX 4070 Ti\", \"RTX 4080\" ,\"RTX 4080\"]\n",
    "def removeprice(text):    \n",
    "    text=text.replace(\"\\n\",\"\").replace(\"$\",\" \")\n",
    "    text=text.split(\" \")\n",
    "    text.pop(-1)\n",
    "    text = \" \".join(text)\n",
    "    return text\n",
    "# gpu=removeprice(gpu_og)\n",
    "# gpu=gpu.split(\" \")\n",
    "# gpu = gpu[-6:-2]\n",
    "# gpu = \" \".join(gpu)\n",
    "# print(gpu)"
   ]
  },
  {
   "cell_type": "markdown",
   "metadata": {},
   "source": [
    "![alt text](image.png)"
   ]
  },
  {
   "cell_type": "code",
   "execution_count": null,
   "metadata": {},
   "outputs": [],
   "source": []
  }
 ],
 "metadata": {
  "kernelspec": {
   "display_name": "venv",
   "language": "python",
   "name": "python3"
  },
  "language_info": {
   "codemirror_mode": {
    "name": "ipython",
    "version": 3
   },
   "file_extension": ".py",
   "mimetype": "text/x-python",
   "name": "python",
   "nbconvert_exporter": "python",
   "pygments_lexer": "ipython3",
   "version": "3.11.0"
  }
 },
 "nbformat": 4,
 "nbformat_minor": 2
}
